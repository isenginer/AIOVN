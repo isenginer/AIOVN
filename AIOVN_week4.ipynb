{
 "cells": [
  {
   "cell_type": "code",
   "id": "initial_id",
   "metadata": {
    "collapsed": true,
    "ExecuteTime": {
     "end_time": "2025-03-22T09:34:06.703396Z",
     "start_time": "2025-03-22T09:34:06.689641Z"
    }
   },
   "source": [
    "import math\n",
    "from itertools import combinations\n",
    "\n",
    "import numpy as np\n",
    "import matplotlib.pyplot as plt\n",
    "import pandas as pd"
   ],
   "outputs": [],
   "execution_count": 1
  },
  {
   "metadata": {},
   "cell_type": "markdown",
   "source": "##### Đây là đoạn code lấy dữ liệu ôn lại kiến thức ",
   "id": "1acb5aa384f284f2"
  },
  {
   "metadata": {},
   "cell_type": "markdown",
   "source": "###### Lọc data và chuyển về tuple cần thiết",
   "id": "13cd441807818fcc"
  },
  {
   "metadata": {
    "ExecuteTime": {
     "end_time": "2025-03-22T09:34:06.890457Z",
     "start_time": "2025-03-22T09:34:06.818185Z"
    }
   },
   "cell_type": "code",
   "source": [
    "# Cách 1: Lọc data bằng pandas\n",
    "data = pd.read_csv('student-scores.csv')\n",
    "set_columns = ['math_score', 'english_score', 'chemistry_score']\n",
    "data['Average'] = round(data.loc[:, set_columns].mean(axis=1), 2)\n",
    "data.head()"
   ],
   "id": "eebe43ae892e7f81",
   "outputs": [
    {
     "data": {
      "text/plain": [
       "   id first_name last_name                                  email  gender  \\\n",
       "0   1       Paul     Casey         paul.casey.1@gslingacademy.com    male   \n",
       "1   2   Danielle  Sandoval  danielle.sandoval.2@gslingacademy.com  female   \n",
       "2   3       Tina   Andrews       tina.andrews.3@gslingacademy.com  female   \n",
       "3   4       Tara     Clark         tara.clark.4@gslingacademy.com  female   \n",
       "4   5    Anthony    Campos     anthony.campos.5@gslingacademy.com    male   \n",
       "\n",
       "   part_time_job  absence_days  extracurricular_activities  \\\n",
       "0          False             3                       False   \n",
       "1          False             2                       False   \n",
       "2          False             9                        True   \n",
       "3          False             5                       False   \n",
       "4          False             5                       False   \n",
       "\n",
       "   weekly_self_study_hours   career_aspiration  math_score  history_score  \\\n",
       "0                       27              Lawyer          73             81   \n",
       "1                       47              Doctor          90             86   \n",
       "2                       13  Government Officer          81             97   \n",
       "3                        3              Artist          71             74   \n",
       "4                       10             Unknown          84             77   \n",
       "\n",
       "   physics_score  chemistry_score  biology_score  english_score  \\\n",
       "0             93               97             63             80   \n",
       "1             96              100             90             88   \n",
       "2             95               96             65             77   \n",
       "3             88               80             89             63   \n",
       "4             65               65             80             74   \n",
       "\n",
       "   geography_score  Average  \n",
       "0               87    83.33  \n",
       "1               90    92.67  \n",
       "2               94    84.67  \n",
       "3               86    71.33  \n",
       "4               76    74.33  "
      ],
      "text/html": [
       "<div>\n",
       "<style scoped>\n",
       "    .dataframe tbody tr th:only-of-type {\n",
       "        vertical-align: middle;\n",
       "    }\n",
       "\n",
       "    .dataframe tbody tr th {\n",
       "        vertical-align: top;\n",
       "    }\n",
       "\n",
       "    .dataframe thead th {\n",
       "        text-align: right;\n",
       "    }\n",
       "</style>\n",
       "<table border=\"1\" class=\"dataframe\">\n",
       "  <thead>\n",
       "    <tr style=\"text-align: right;\">\n",
       "      <th></th>\n",
       "      <th>id</th>\n",
       "      <th>first_name</th>\n",
       "      <th>last_name</th>\n",
       "      <th>email</th>\n",
       "      <th>gender</th>\n",
       "      <th>part_time_job</th>\n",
       "      <th>absence_days</th>\n",
       "      <th>extracurricular_activities</th>\n",
       "      <th>weekly_self_study_hours</th>\n",
       "      <th>career_aspiration</th>\n",
       "      <th>math_score</th>\n",
       "      <th>history_score</th>\n",
       "      <th>physics_score</th>\n",
       "      <th>chemistry_score</th>\n",
       "      <th>biology_score</th>\n",
       "      <th>english_score</th>\n",
       "      <th>geography_score</th>\n",
       "      <th>Average</th>\n",
       "    </tr>\n",
       "  </thead>\n",
       "  <tbody>\n",
       "    <tr>\n",
       "      <th>0</th>\n",
       "      <td>1</td>\n",
       "      <td>Paul</td>\n",
       "      <td>Casey</td>\n",
       "      <td>paul.casey.1@gslingacademy.com</td>\n",
       "      <td>male</td>\n",
       "      <td>False</td>\n",
       "      <td>3</td>\n",
       "      <td>False</td>\n",
       "      <td>27</td>\n",
       "      <td>Lawyer</td>\n",
       "      <td>73</td>\n",
       "      <td>81</td>\n",
       "      <td>93</td>\n",
       "      <td>97</td>\n",
       "      <td>63</td>\n",
       "      <td>80</td>\n",
       "      <td>87</td>\n",
       "      <td>83.33</td>\n",
       "    </tr>\n",
       "    <tr>\n",
       "      <th>1</th>\n",
       "      <td>2</td>\n",
       "      <td>Danielle</td>\n",
       "      <td>Sandoval</td>\n",
       "      <td>danielle.sandoval.2@gslingacademy.com</td>\n",
       "      <td>female</td>\n",
       "      <td>False</td>\n",
       "      <td>2</td>\n",
       "      <td>False</td>\n",
       "      <td>47</td>\n",
       "      <td>Doctor</td>\n",
       "      <td>90</td>\n",
       "      <td>86</td>\n",
       "      <td>96</td>\n",
       "      <td>100</td>\n",
       "      <td>90</td>\n",
       "      <td>88</td>\n",
       "      <td>90</td>\n",
       "      <td>92.67</td>\n",
       "    </tr>\n",
       "    <tr>\n",
       "      <th>2</th>\n",
       "      <td>3</td>\n",
       "      <td>Tina</td>\n",
       "      <td>Andrews</td>\n",
       "      <td>tina.andrews.3@gslingacademy.com</td>\n",
       "      <td>female</td>\n",
       "      <td>False</td>\n",
       "      <td>9</td>\n",
       "      <td>True</td>\n",
       "      <td>13</td>\n",
       "      <td>Government Officer</td>\n",
       "      <td>81</td>\n",
       "      <td>97</td>\n",
       "      <td>95</td>\n",
       "      <td>96</td>\n",
       "      <td>65</td>\n",
       "      <td>77</td>\n",
       "      <td>94</td>\n",
       "      <td>84.67</td>\n",
       "    </tr>\n",
       "    <tr>\n",
       "      <th>3</th>\n",
       "      <td>4</td>\n",
       "      <td>Tara</td>\n",
       "      <td>Clark</td>\n",
       "      <td>tara.clark.4@gslingacademy.com</td>\n",
       "      <td>female</td>\n",
       "      <td>False</td>\n",
       "      <td>5</td>\n",
       "      <td>False</td>\n",
       "      <td>3</td>\n",
       "      <td>Artist</td>\n",
       "      <td>71</td>\n",
       "      <td>74</td>\n",
       "      <td>88</td>\n",
       "      <td>80</td>\n",
       "      <td>89</td>\n",
       "      <td>63</td>\n",
       "      <td>86</td>\n",
       "      <td>71.33</td>\n",
       "    </tr>\n",
       "    <tr>\n",
       "      <th>4</th>\n",
       "      <td>5</td>\n",
       "      <td>Anthony</td>\n",
       "      <td>Campos</td>\n",
       "      <td>anthony.campos.5@gslingacademy.com</td>\n",
       "      <td>male</td>\n",
       "      <td>False</td>\n",
       "      <td>5</td>\n",
       "      <td>False</td>\n",
       "      <td>10</td>\n",
       "      <td>Unknown</td>\n",
       "      <td>84</td>\n",
       "      <td>77</td>\n",
       "      <td>65</td>\n",
       "      <td>65</td>\n",
       "      <td>80</td>\n",
       "      <td>74</td>\n",
       "      <td>76</td>\n",
       "      <td>74.33</td>\n",
       "    </tr>\n",
       "  </tbody>\n",
       "</table>\n",
       "</div>"
      ]
     },
     "execution_count": 2,
     "metadata": {},
     "output_type": "execute_result"
    }
   ],
   "execution_count": 2
  },
  {
   "metadata": {
    "ExecuteTime": {
     "end_time": "2025-03-22T09:34:08.036466Z",
     "start_time": "2025-03-22T09:34:06.893459Z"
    }
   },
   "cell_type": "code",
   "source": [
    "data_filtered = data[['last_name', 'weekly_self_study_hours','Average']][0:10]\n",
    "subject_data = [tuple(data_filtered.iloc[i, :]) for i in range(1, len(data_filtered))]\n",
    "print(subject)"
   ],
   "id": "bc919a9c007ede62",
   "outputs": [
    {
     "ename": "NameError",
     "evalue": "name 'subject' is not defined",
     "output_type": "error",
     "traceback": [
      "\u001B[1;31m---------------------------------------------------------------------------\u001B[0m",
      "\u001B[1;31mNameError\u001B[0m                                 Traceback (most recent call last)",
      "Input \u001B[1;32mIn [3]\u001B[0m, in \u001B[0;36m<cell line: 3>\u001B[1;34m()\u001B[0m\n\u001B[0;32m      1\u001B[0m data_filtered \u001B[38;5;241m=\u001B[39m data[[\u001B[38;5;124m'\u001B[39m\u001B[38;5;124mlast_name\u001B[39m\u001B[38;5;124m'\u001B[39m, \u001B[38;5;124m'\u001B[39m\u001B[38;5;124mweekly_self_study_hours\u001B[39m\u001B[38;5;124m'\u001B[39m,\u001B[38;5;124m'\u001B[39m\u001B[38;5;124mAverage\u001B[39m\u001B[38;5;124m'\u001B[39m]][\u001B[38;5;241m0\u001B[39m:\u001B[38;5;241m10\u001B[39m]\n\u001B[0;32m      2\u001B[0m subject_data \u001B[38;5;241m=\u001B[39m [\u001B[38;5;28mtuple\u001B[39m(data_filtered\u001B[38;5;241m.\u001B[39miloc[i, :]) \u001B[38;5;28;01mfor\u001B[39;00m i \u001B[38;5;129;01min\u001B[39;00m \u001B[38;5;28mrange\u001B[39m(\u001B[38;5;241m1\u001B[39m, \u001B[38;5;28mlen\u001B[39m(data_filtered))]\n\u001B[1;32m----> 3\u001B[0m \u001B[38;5;28mprint\u001B[39m(\u001B[43msubject\u001B[49m)\n",
      "\u001B[1;31mNameError\u001B[0m: name 'subject' is not defined"
     ]
    }
   ],
   "execution_count": 3
  },
  {
   "metadata": {
    "ExecuteTime": {
     "end_time": "2025-03-22T09:34:08.040465Z",
     "start_time": "2025-03-22T09:34:08.040465Z"
    }
   },
   "cell_type": "code",
   "source": [
    "# Cách 2: Lọc data bằng đọc file\n",
    "with open('student-scores.txt', 'r') as f:\n",
    "    data1 = f.read().splitlines()[1:11]\n",
    "        \n",
    "f.close()\n",
    "# data_filtered1 = [data1[i] for i in range(len(data))]\n",
    "print(data1)"
   ],
   "id": "69a827bb67eeb821",
   "outputs": [],
   "execution_count": null
  },
  {
   "metadata": {},
   "cell_type": "markdown",
   "source": [
    "# WEEK 4\n",
    "\n",
    "Update các phương thức về list và cơ sở dữ liệu"
   ],
   "id": "7a43b7f73e08437"
  },
  {
   "metadata": {},
   "cell_type": "markdown",
   "source": "## Day 10 - List, Dictionary, Set, & Tuple Exercises\n",
   "id": "1b2015e480a43396"
  },
  {
   "metadata": {},
   "cell_type": "markdown",
   "source": [
    "### Bài 1: Quản lý danh sách môn học\n",
    "Mô tả đề: Cho một danh sách các tuple subjects, mỗi tuple chứa thông tin về một môn\n",
    "học gồm (tên môn, số tín chỉ, điểm trung bình). Hãy tạo một từ điển (dict) để lưu\n",
    "số lượng môn học theo số tín chỉ, một tập hợp (set) chứa các điểm trung bình duy nhất, và\n",
    "trả về môn học có điểm trung bình cao nhất dưới dạng tuple."
   ],
   "id": "11170e721a86baa1"
  },
  {
   "metadata": {
    "ExecuteTime": {
     "end_time": "2025-03-22T09:34:08.042972Z",
     "start_time": "2025-03-22T09:34:08.041957Z"
    }
   },
   "cell_type": "code",
   "source": [
    "dict_scores = dict(zip([credit[1] for index, credit in enumerate(subject_data)], [avg[2] for index, avg in enumerate(subject_data)]))\n",
    "print('Từ điển số tín chỉ: ', dict_scores)\n",
    "dict_scores[47]"
   ],
   "id": "63938bf97c2d6313",
   "outputs": [],
   "execution_count": null
  },
  {
   "metadata": {},
   "cell_type": "code",
   "source": [
    "set_scores = set(dict_scores.values())\n",
    "print('Tập hợp điểm TB: ', set_scores)"
   ],
   "id": "1a9a396bd9cb0c19",
   "outputs": [],
   "execution_count": null
  },
  {
   "metadata": {},
   "cell_type": "code",
   "source": [
    "list_avg = [subject_data[i][2] for i in range(len(subject_data))]\n",
    "max_index = list_avg.index(max((list_avg)))\n",
    "print('Điểm số TB cao nhất: ', subject_data[max_index])\n"
   ],
   "id": "243a06bde93837b3",
   "outputs": [],
   "execution_count": null
  },
  {
   "metadata": {},
   "cell_type": "markdown",
   "source": [
    "### Bài 2: Phân loại số theo tần suất\n",
    "Mô tả đề: Cho một danh sách số nguyên numbers, hãy tạo một từ điển (dict) lưu tần\n",
    "suất xuất hiện của mỗi số, một tập hợp (set) chứa các số xuất hiện đúng một lần, và trả về\n",
    "danh sách các tuple (số, tần suất) được sắp xếp theo tần suất giảm dần"
   ],
   "id": "20e5ddebb0a4aef7"
  },
  {
   "metadata": {},
   "cell_type": "markdown",
   "source": "Đây là một dạng bài toán về hash table, được sử dụng để xác định tần suất.",
   "id": "94b7c7153faf0078"
  },
  {
   "metadata": {
    "ExecuteTime": {
     "end_time": "2025-03-22T10:42:27.398407Z",
     "start_time": "2025-03-22T10:42:27.384918Z"
    }
   },
   "cell_type": "code",
   "source": [
    "def frequency_dictionary(data):\n",
    "    \"\"\"\n",
    "    Function to verify the frequency of occurrence in list\n",
    "    :param data: list\n",
    "    :return: dictionary of data frequency\n",
    "    \"\"\"\n",
    "    freq_dict = {}\n",
    "    for i in range(len(data)):\n",
    "        if data[i] in freq_dict:\n",
    "            freq_dict[data[i]] += 1\n",
    "        else:\n",
    "            freq_dict[data[i]] = 1\n",
    "    return freq_dict"
   ],
   "id": "2a3ba8350fab90b7",
   "outputs": [],
   "execution_count": 29
  },
  {
   "metadata": {
    "ExecuteTime": {
     "end_time": "2025-03-22T10:42:28.274102Z",
     "start_time": "2025-03-22T10:42:28.269268Z"
    }
   },
   "cell_type": "code",
   "source": [
    "list_data = [1, 2, 2, 3, 1, 4, 5, 6, 5, 3, 6, 5, 7, 4, 4, 4, 5, 1, 10, 9]\n",
    "print('Từ điển tần suất: ',frequency_dictionary(list_data))"
   ],
   "id": "e67320879f006976",
   "outputs": [
    {
     "name": "stdout",
     "output_type": "stream",
     "text": [
      "Từ điển tần suất:  {1: 3, 2: 2, 3: 2, 4: 4, 5: 4, 6: 2, 7: 1, 10: 1, 9: 1}\n"
     ]
    }
   ],
   "execution_count": 30
  },
  {
   "metadata": {},
   "cell_type": "code",
   "source": [
    "set_one = set([key for key, value in freq_dict.items() if value == 1])\n",
    "print('Tập hợp sô xuất hiện một lần: ', set_one)"
   ],
   "id": "d112297e7a218dd2",
   "outputs": [],
   "execution_count": null
  },
  {
   "metadata": {},
   "cell_type": "code",
   "source": [
    "freq_dict_sorted = sorted(freq_dict.items(), key=lambda x: x[1], reverse=True)\n",
    "print('Danh sách tần số giảm dần: ', freq_dict_sorted)"
   ],
   "id": "2de2245ac9a106d8",
   "outputs": [],
   "execution_count": null
  },
  {
   "metadata": {},
   "cell_type": "markdown",
   "source": [
    "### Bài 3: Tìm cặp giá trị gần nhất\n",
    "Mô tả đề: Cho một danh sách các tuple pairs, mỗi tuple chứa (giá trị, chỉ số), hãy\n",
    "tìm cặp hai tuple có giá trị gần nhau nhất (chênh lệch nhỏ nhất). Trả về một tuple chứa chỉ\n",
    "số của hai phần tử này, một từ điển lưu chênh lệch giữa các cặp, và một tập hợp các giá trị\n",
    "duy nhất"
   ],
   "id": "dc32eba071a0689e"
  },
  {
   "metadata": {},
   "cell_type": "markdown",
   "source": [
    "Cách ghép đôi các phần tử trong dict\n",
    "\n",
    "![Minh hoa](Ghep_doi_dict.png)"
   ],
   "id": "9e0fe1bd7ffd841d"
  },
  {
   "metadata": {
    "ExecuteTime": {
     "end_time": "2025-03-22T10:11:29.786061Z",
     "start_time": "2025-03-22T10:11:29.767061Z"
    }
   },
   "cell_type": "code",
   "source": [
    "from itertools import combinations\n",
    "\n",
    "subject_data_sorted = sorted(subject_data, key=lambda x: x[1], reverse=True)\n",
    "\n",
    "# Tách thư viện có 2 dữ liệu là tên và giá trị học trình để sử dụng\n",
    "dict_combined = dict(zip([_ for _,i, j in subject_data_sorted], [_ for i,_, j in subject_data_sorted]))\n",
    "\n",
    "# ghép đôi các key với nhau và values là hiệu của các cặp key này\n",
    "dict_compared = {(i, j): abs(dict_combined[i] - dict_combined[j]) for i, j in combinations(dict_combined, 2)}\n",
    "\n",
    "# Sắp xếp từ nhỏ >> lớn để lấy giá trị có hiệu nhỏ nhất \n",
    "dict_compared_sorted = dict(sorted(dict_compared.items(), key=lambda x:x[1], reverse=False))\n",
    "\n",
    "first_item = next(iter(dict_compared_sorted.items()))\n",
    "print('Từ điển lưu chênh lệch giữa các cặp: ', dict_compared_sorted)\n",
    "print('Cặp có giá trị chênh lệch nhở nhất: ', first_item)\n",
    "print('Tập hợp có giá trị duy nhất: ', set(dict_combined.keys()))"
   ],
   "id": "d0a507a61593b7b7",
   "outputs": [
    {
     "name": "stdout",
     "output_type": "stream",
     "text": [
      "Từ điển lưu chênh lệch giữa các cặp:  {('Wade', 'Gutierrez'): 1, ('Gutierrez', 'Smith'): 2, ('Wade', 'Smith'): 3, ('Andrews', 'Campos'): 3, ('Smith', 'Simpson'): 5, ('Simpson', 'Andrews'): 5, ('Gutierrez', 'Simpson'): 7, ('Campos', 'Clark'): 7, ('Short', 'Wade'): 8, ('Wade', 'Simpson'): 8, ('Simpson', 'Campos'): 8, ('Short', 'Gutierrez'): 9, ('Smith', 'Andrews'): 10, ('Andrews', 'Clark'): 10, ('Short', 'Smith'): 11, ('Gutierrez', 'Andrews'): 12, ('Sandoval', 'Short'): 13, ('Wade', 'Andrews'): 13, ('Smith', 'Campos'): 13, ('Gutierrez', 'Campos'): 15, ('Simpson', 'Clark'): 15, ('Short', 'Simpson'): 16, ('Wade', 'Campos'): 16, ('Smith', 'Clark'): 20, ('Sandoval', 'Wade'): 21, ('Short', 'Andrews'): 21, ('Sandoval', 'Gutierrez'): 22, ('Gutierrez', 'Clark'): 22, ('Wade', 'Clark'): 23, ('Sandoval', 'Smith'): 24, ('Short', 'Campos'): 24, ('Sandoval', 'Simpson'): 29, ('Short', 'Clark'): 31, ('Sandoval', 'Andrews'): 34, ('Sandoval', 'Campos'): 37, ('Sandoval', 'Clark'): 44}\n",
      "Cặp có giá trị chênh lệch nhở nhất:  (('Wade', 'Gutierrez'), 1)\n",
      "Tập hợp có giá trị duy nhất:  {'Sandoval', 'Smith', 'Wade', 'Simpson', 'Gutierrez', 'Short', 'Campos', 'Andrews', 'Clark'}\n"
     ]
    }
   ],
   "execution_count": 20
  },
  {
   "metadata": {},
   "cell_type": "markdown",
   "source": "## Day 11 - List, Dictionary & Set Advanced Exercises\n",
   "id": "4158e638a0f1cced"
  },
  {
   "metadata": {},
   "cell_type": "markdown",
   "source": [
    "### Bài 1: Kiểm tra phần tử trùng lặp\n",
    "Mô tả đề: Cho một mảng số nguyên nums, hãy xác định xem mảng có chứa bất kỳ phần\n",
    "tử nào xuất hiện nhiều hơn một lần hay không. Trả về True nếu tồn tại ít nhất một phần\n",
    "tử trùng lặp, và False nếu tất cả các phần tử đều khác nhau."
   ],
   "id": "e1e727b8d11031d3"
  },
  {
   "metadata": {
    "ExecuteTime": {
     "end_time": "2025-03-22T10:45:25.654628Z",
     "start_time": "2025-03-22T10:45:25.629155Z"
    }
   },
   "cell_type": "code",
   "source": [
    "list_data = [1, 2, 2, 3, 1, 4, 5, 6, 5, 3, 6, 5, 7, 4, 4, 4, 5, 1, 10, 9]\n",
    "list_data1 = [1, 2, 3, 4, 5]\n",
    "def contains_duplication_set(data):\n",
    "    \"\"\"\n",
    "    Method to find any duplication in data\n",
    "    :param data: list type\n",
    "    :return: True if duplicated\n",
    "    \"\"\"\n",
    "    return True if len(set(data)) != len(data) else False\n",
    "\n",
    "def contains_duplication_dict(data):\n",
    "    \"\"\"\n",
    "    Method to find any duplication in data\n",
    "    :param data: list type\n",
    "    :return: True if duplicated\n",
    "    \"\"\"\n",
    "    freq_dict = frequency_dictionary(data)\n",
    "    for i, j in freq_dict.items():\n",
    "        if j > 1:\n",
    "            return True\n",
    "            break\n",
    "    return False\n",
    " \n",
    "print('Có ký tự trùng lặp với cách dùng set') if contains_duplication_set(list_data) else print('Không có ký tự trùng lặp')\n",
    "print('Có ký tự trùng lặp với cách dùng dict') if contains_duplication_dict(list_data1) else print('Không có ký tự trùng lặp')"
   ],
   "id": "4b59fb2542cfd3b4",
   "outputs": [
    {
     "name": "stdout",
     "output_type": "stream",
     "text": [
      "Có ký tự trùng lặp với cách dùng set\n",
      "Không có ký tự trùng lặp\n"
     ]
    }
   ],
   "execution_count": 32
  },
  {
   "metadata": {},
   "cell_type": "markdown",
   "source": [
    "### Bài 2: Nhóm các chuỗi đảo chữ\n",
    "Mô tả đề: Cho một mảng các chuỗi strs, hãy gom các chuỗi là đảo chữ của nhau (các chuỗi\n",
    "có cùng tập hợp ký tự với số lần xuất hiện như nhau) thành từng nhóm. Trả về danh sách\n",
    "các nhóm, trong đó mỗi nhóm là một danh sách các chuỗi đảo chữ. Thứ tự của các nhóm và\n",
    "chuỗi trong nhóm không quan trọng."
   ],
   "id": "7b63266002ec6b35"
  },
  {
   "metadata": {
    "ExecuteTime": {
     "end_time": "2025-03-22T15:01:35.147248Z",
     "start_time": "2025-03-22T15:01:35.133064Z"
    }
   },
   "cell_type": "code",
   "source": [
    "# Cách 1: Dùng thuật toán ngây thơ (Naive algorythm)\n",
    "def anagram1(str1, str2):\n",
    "    \"\"\"\n",
    "    Find similarity of two string\n",
    "    :param str1: first string\n",
    "    :param str2: second string\n",
    "    :return: True or False\n",
    "    \"\"\"\n",
    "    if (str1 == '' and str2 !='') or (str1 != '' and str2 == ''): return False\n",
    "    elif (len(str1) == len(str2) == 1) and (str1 != str2): return False\n",
    "    elif len(str1) != len(str2): return False\n",
    "    else:\n",
    "        count = 0 # Đếm số ký tự trùng nhau\n",
    "        # Kiểm tra số ký tự, nếu trùng nhau hết thì tương đồng\n",
    "        for i in str1:\n",
    "            if i in str2:\n",
    "                count += 1\n",
    "        return False if count != len(str1) else True\n",
    "    return True\n",
    "\n",
    "# Cách 2: Dùng sorted để sắp xếp chữ\n",
    "def anagram2(str1, str2):\n",
    "    return sorted(str1) == sorted(str2)\n",
    "\n",
    "def group_anagrams(strs):\n",
    "    \"\"\"\n",
    "    Group all anagram sring\n",
    "    :param strs: list of strings\n",
    "    :return: list of group anagram\n",
    "    \"\"\"\n",
    "    anagram_dict = {}\n",
    "    for str in strs:\n",
    "        sorted_key = ''.join(sorted(str)) # Chú ý cú pháp quan trọng này trong chuỗi (Gọi là dấu ấn)\n",
    "        if sorted_key in anagram_dict:\n",
    "            anagram_dict[sorted_key].append(str)\n",
    "        else:\n",
    "            anagram_dict[sorted_key] = [str]\n",
    "    \n",
    "    return list(anagram_dict.values())    "
   ],
   "id": "42869dd46edd3d43",
   "outputs": [],
   "execution_count": 63
  },
  {
   "metadata": {
    "ExecuteTime": {
     "end_time": "2025-03-22T15:01:37.937351Z",
     "start_time": "2025-03-22T15:01:37.920919Z"
    }
   },
   "cell_type": "code",
   "source": [
    "strs = ['eat', 'tea', 'tan', 'ate', 'nat', 'bat', '', 'a', 'a', '','b']\n",
    "group_anagrams(strs)"
   ],
   "id": "7bae4a949bafb634",
   "outputs": [
    {
     "data": {
      "text/plain": [
       "[['eat', 'tea', 'ate'], ['tan', 'nat'], ['bat'], ['', ''], ['a', 'a'], ['b']]"
      ]
     },
     "execution_count": 65,
     "metadata": {},
     "output_type": "execute_result"
    }
   ],
   "execution_count": 65
  },
  {
   "metadata": {},
   "cell_type": "markdown",
   "source": [
    "### Bài 3: Tìm cặp số có tổng bằng đích\n",
    "Mô tả đề: Cho một mảng số nguyên nums và một số nguyên target, hãy tìm và trả về\n",
    "chỉ số của hai phần tử trong mảng sao cho tổng của chúng bằng target. Giả định rằng mỗi\n",
    "trường hợp chỉ có duy nhất một cặp giải pháp, và không được sử dụng cùng một phần tử\n",
    "hai lần. Thứ tự các chỉ số trong kết quả không quan trọng.\n",
    "Input: nums = [2, 7, 11, 15], target = 9"
   ],
   "id": "8de4ccd84e3d927c"
  },
  {
   "metadata": {
    "ExecuteTime": {
     "end_time": "2025-03-22T15:29:26.313505Z",
     "start_time": "2025-03-22T15:29:26.295228Z"
    }
   },
   "cell_type": "code",
   "source": [
    "def two_sum(nums, target):\n",
    "    \"\"\"\n",
    "    \n",
    "    :param nums: \n",
    "    :param target: \n",
    "    :return: \n",
    "    \"\"\"\n",
    "    sum_dict = {i: v for i, v in enumerate(nums)}\n",
    "    sum_list = []\n",
    "    for i, v in enumerate(nums):\n",
    "        value = target - v\n",
    "        if value in sum_dict.values():\n",
    "            sum_list.append(i)\n",
    "        else:\n",
    "            sum_dict[i] = v\n",
    "    \n",
    "    return sum_list\n"
   ],
   "id": "957a7b6d29a9574a",
   "outputs": [],
   "execution_count": 87
  },
  {
   "metadata": {
    "ExecuteTime": {
     "end_time": "2025-03-22T15:29:52.840635Z",
     "start_time": "2025-03-22T15:29:52.824161Z"
    }
   },
   "cell_type": "code",
   "source": [
    "nums = [2, 7, 11, 15, 25, 25]\n",
    "two_sum(nums, 50)"
   ],
   "id": "2e571f5ddae512da",
   "outputs": [
    {
     "data": {
      "text/plain": [
       "[4, 5]"
      ]
     },
     "execution_count": 89,
     "metadata": {},
     "output_type": "execute_result"
    }
   ],
   "execution_count": 89
  }
 ],
 "metadata": {
  "kernelspec": {
   "display_name": "Python 3",
   "language": "python",
   "name": "python3"
  },
  "language_info": {
   "codemirror_mode": {
    "name": "ipython",
    "version": 2
   },
   "file_extension": ".py",
   "mimetype": "text/x-python",
   "name": "python",
   "nbconvert_exporter": "python",
   "pygments_lexer": "ipython2",
   "version": "2.7.6"
  }
 },
 "nbformat": 4,
 "nbformat_minor": 5
}
