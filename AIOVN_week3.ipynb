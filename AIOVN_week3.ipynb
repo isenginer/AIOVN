{
 "cells": [
  {
   "metadata": {},
   "cell_type": "markdown",
   "source": [
    "# WEEK 2\n",
    "\n",
    "Phần bài tập liên quan đến list, tuple và set"
   ],
   "id": "4be3745ef8b74598"
  },
  {
   "cell_type": "code",
   "id": "initial_id",
   "metadata": {
    "collapsed": true,
    "ExecuteTime": {
     "end_time": "2025-03-16T03:02:09.708633Z",
     "start_time": "2025-03-16T03:02:09.701195Z"
    }
   },
   "source": [
    "# Import thư viện\n",
    "import math\n",
    "import random\n",
    "import numpy as np"
   ],
   "outputs": [],
   "execution_count": 29
  },
  {
   "metadata": {},
   "cell_type": "markdown",
   "source": [
    "## DAY 7 - BASIC LIST & BUILT-IN FUNCTION\n",
    "\n",
    "Các hàm phương thức\n",
    "* list.append(x): thêm vào cuối\n",
    "* líst.insert(i, x): thêm phần tử x vào vị trí i\n",
    "* list.remove(x): Xóa phần tử x đầu tiên tìm thấy\n",
    "* list.pop(i): Xóa và trả về phần tử tại vị trí i\n",
    "* Các phương thức khác: len(L), min(), max(), sum(), sorted(), reverse(), index(x), count(x)"
   ],
   "id": "30ebbf32d9b9eab3"
  },
  {
   "metadata": {},
   "cell_type": "markdown",
   "source": "### Bài 1: Tạo danh sách số nguyên từ bàn phím",
   "id": "86ef3b299749d0f5"
  },
  {
   "metadata": {
    "ExecuteTime": {
     "end_time": "2025-03-16T03:02:09.754695Z",
     "start_time": "2025-03-16T03:02:09.748947Z"
    }
   },
   "cell_type": "code",
   "source": [
    "def get_input():\n",
    "    while True:\n",
    "        try:\n",
    "            x = int(input('Nhập sô nguyên mới vào chuỗi:'))\n",
    "            return x\n",
    "            break\n",
    "        except ValueError:\n",
    "            print('Lỗi! xin hay nhập đúng số nguyên')  "
   ],
   "id": "2fc1df6803019f19",
   "outputs": [],
   "execution_count": 30
  },
  {
   "metadata": {
    "ExecuteTime": {
     "end_time": "2025-03-16T03:02:34.588111Z",
     "start_time": "2025-03-16T03:02:09.771438Z"
    }
   },
   "cell_type": "code",
   "source": [
    "n = int(input('Nhập độ dài dãy:'))\n",
    "lst = []\n",
    "\n",
    "for i in range(n):\n",
    "    lst.append(get_input())\n",
    "\n",
    "print('List được tạo thành:', lst)"
   ],
   "id": "fd621253aa2e3f6b",
   "outputs": [
    {
     "name": "stdout",
     "output_type": "stream",
     "text": [
      "Lỗi! xin hay nhập đúng số nguyên\n",
      "[1, 2, 3, 4, 5, 3, 5, 5, 6, 6, 6, 6, 6, 4, 4, 4, 4, 5, 6, 6, 2, 4, 5, 6, 7, 4, 5, 3, 3, 5, 6, 6, 6, 6, 6, 6, 6, 6, 6, 6]\n"
     ]
    }
   ],
   "execution_count": 31
  },
  {
   "metadata": {},
   "cell_type": "markdown",
   "source": "### Bài 2 - Tính toán trên list",
   "id": "228e72adccfa03d2"
  },
  {
   "metadata": {
    "ExecuteTime": {
     "end_time": "2025-03-16T03:02:34.605823Z",
     "start_time": "2025-03-16T03:02:34.590261Z"
    }
   },
   "cell_type": "code",
   "source": [
    "print('sum:', sum(lst))\n",
    "print('max:', max(lst))\n",
    "print('min:', min(lst))"
   ],
   "id": "9db89bb85bd54a57",
   "outputs": [
    {
     "name": "stdout",
     "output_type": "stream",
     "text": [
      "sum: 195\n",
      "max: 7\n",
      "min: 1\n"
     ]
    }
   ],
   "execution_count": 32
  },
  {
   "metadata": {},
   "cell_type": "markdown",
   "source": "### Bài 3 - Thêm và xóa phần tử",
   "id": "1a491a11da7b51b9"
  },
  {
   "metadata": {},
   "cell_type": "code",
   "outputs": [],
   "execution_count": null,
   "source": [
    "# Thêm dữ liệu vào dãy\n",
    "lst.append(get_input())\n",
    "print('Danh sách mới sau khi thêm vào cuối:', lst)\n",
    "\n",
    "a = int(input('Nhập vị trí cần thêm vào:'))\n",
    "lst.insert(a, get_input())\n",
    "print(f'Danh sách mới sau khi thêm vào một vị trí {i}:', lst)\n",
    "\n",
    "b = int(input('Nhập số cần xóa:'))\n",
    "print('Không tìm thấy') if b not in lst else print(lst.remove(b))"
   ],
   "id": "38e537391a00d0e0"
  },
  {
   "metadata": {},
   "cell_type": "markdown",
   "source": "### Bài 4 - Duyệt list bằng vòng lặp",
   "id": "dc10685c629ec1b0"
  },
  {
   "metadata": {},
   "cell_type": "code",
   "outputs": [],
   "execution_count": null,
   "source": [
    "lst1 = [10, 25, 30, 40, 50]\n",
    "for i, v in enumerate(lst1):\n",
    "    print(f'Giá trị tại {i}: {v}')\n",
    "\n",
    "i=0\n",
    "while i< len(lst1):\n",
    "  print(f'Giá trị tại {i}: {lst1[i]}')\n",
    "  i += 1"
   ],
   "id": "54ea89ddc8bac215"
  },
  {
   "metadata": {},
   "cell_type": "markdown",
   "source": "### Bài 5 - Tìm kiếm phần tử trong list",
   "id": "a55674b4fdb53595"
  },
  {
   "metadata": {
    "ExecuteTime": {
     "end_time": "2025-03-16T03:02:35.011758Z",
     "start_time": "2025-03-16T03:02:34.607190Z"
    }
   },
   "cell_type": "code",
   "source": [
    "x = get_input()\n",
    "print(f'Gia trị tìm thấy tại {lst.index(x)}) if x in lst else print('Không tìm thấy')"
   ],
   "id": "cad710522a7b4bd7",
   "outputs": [
    {
     "name": "stdout",
     "output_type": "stream",
     "text": [
      "6\n"
     ]
    }
   ],
   "execution_count": 33
  },
  {
   "metadata": {},
   "cell_type": "markdown",
   "source": "# DAY 8 - LIST COMPREHENSION & DICTIONARY",
   "id": "6b8bf71e166c8f82"
  },
  {
   "metadata": {},
   "cell_type": "markdown",
   "source": [
    "Cú pháp lặp trong list\n",
    "\n",
    "Copy list và Alias (gán list cho biến khác tạo tham chiếu, không tạo bản sao)\n",
    "\n",
    "list1 = [1, 2, 3]\n",
    "\n",
    "list2[0] = 10% list 1: [10, 2, 3]\n",
    "\n",
    "Chú ý 2 lệnh copy() và deepcopy(). Ở đây copy() tạo 1 bản sao nhưng vẫn tham chiếu bản gốc và thay đổi theo bản gốc\n",
    "deepcopy() từ module copy \"import copy\" tạo bản sao hoàn toàn độc lập."
   ],
   "id": "6dd5a34045fa1960"
  },
  {
   "metadata": {},
   "cell_type": "markdown",
   "source": [
    "Dictionary với các phương thức sau:\n",
    "* keys() trả về danh sách các key\n",
    "* values: trả về danh sách value\n",
    "* items(): trả về các cặp (key, value)\n",
    "* get(key, default): trả về giá trị của key hoặc default "
   ],
   "id": "f75a84efd5e9e12a"
  },
  {
   "metadata": {},
   "cell_type": "markdown",
   "source": "### Bài 1: Nhập 1 số n và tạo một list các số lẻ từ 1 đến n",
   "id": "bf07dede71ac2f43"
  },
  {
   "metadata": {
    "ExecuteTime": {
     "end_time": "2025-03-16T08:09:05.622708Z",
     "start_time": "2025-03-16T08:09:03.530619Z"
    }
   },
   "cell_type": "code",
   "source": [
    "n1 = int(input('nhap giới hạn dãy:'))\n",
    "lst1 = [i for i in range(n1) if i%2 != 0]\n",
    "print(lst1)"
   ],
   "id": "e9692dda9ae7b1c9",
   "outputs": [
    {
     "name": "stdout",
     "output_type": "stream",
     "text": [
      "[1, 3, 5, 7, 9]\n"
     ]
    }
   ],
   "execution_count": 83
  },
  {
   "metadata": {},
   "cell_type": "markdown",
   "source": "### Bài 2: Copy List & Aliasing",
   "id": "31e6ab566ff17445"
  },
  {
   "metadata": {},
   "cell_type": "code",
   "source": [
    "lst2 = [1, 2, [3, 4]]\n",
    "\n",
    "import copy\n",
    "\n",
    "lst2_copy = lst2.copy()\n",
    "lst2_deepcopy = copy.deepcopy(lst2)\n",
    "\n",
    "# Thay đổi phần tử lồng nhau trong cả 2 bản sao và so sánh\n",
    "\n",
    "lst2_copy[2] = [5,4]\n",
    "lst2_deepcopy[2] = [10,4]\n",
    "\n",
    "print(lst2)\n",
    "print(lst2_copy)\n",
    "print(lst2_deepcopy)\n",
    "print(lst2)"
   ],
   "id": "4d6b32b57b78b60",
   "outputs": [],
   "execution_count": null
  },
  {
   "metadata": {},
   "cell_type": "markdown",
   "source": [
    "### Bài 3: Dictionary\n",
    "\n",
    "Chú ý trong phương thức dict còn có phương thức dict(zip(keys, values)) từ 2 list độc lập"
   ],
   "id": "ed2acf730375942d"
  },
  {
   "metadata": {},
   "cell_type": "code",
   "source": [
    "dict1 = {'An': 9.5, 'Binh':10, 'Cuong':20}\n",
    "\n",
    "# import pandas as pd\n",
    "# pd.DataFrame(dict1, columns=dict1.keys(), index=[0])\n",
    "print(dict1.keys())\n",
    "print(dict1.values())\n",
    "print(dict1.items())\n",
    "\n",
    "dict1.update({'Khong':9})\n",
    "print(dict1)\n"
   ],
   "id": "4510b24d47ae114d",
   "outputs": [],
   "execution_count": null
  },
  {
   "metadata": {},
   "cell_type": "markdown",
   "source": "# DAY 9 - List 2D & Set, Tuple",
   "id": "59dbc9c587885600"
  },
  {
   "metadata": {},
   "cell_type": "markdown",
   "source": [
    "Minh họa tính chất của 3 dạng cấu trúc dữ liệu trong Python\n",
    "\n",
    "![Minh họa](List_Tuple_Set.png)"
   ],
   "id": "105b9bc00af192bc"
  },
  {
   "metadata": {},
   "cell_type": "code",
   "outputs": [],
   "execution_count": null,
   "source": "",
   "id": "c39804111ff39b29"
  },
  {
   "metadata": {},
   "cell_type": "markdown",
   "source": [
    "### Bài 1: Áp dụng List 2D\n",
    "\n",
    "1. Tạo ma trận 2D kích thước 3x3 chứa các số nguyên nhập từ bàn phím.\n",
    "2. Tính tổng các phần tử trong ma trận.\n",
    "\n",
    "Để thực hiện nhanh bài toán, sử dụng tạo hàm để lấy số ngẫu nhiên và nhập từng phần tử"
   ],
   "id": "925203ba7d05117d"
  },
  {
   "metadata": {
    "ExecuteTime": {
     "end_time": "2025-03-16T03:24:47.614163Z",
     "start_time": "2025-03-16T03:24:47.607100Z"
    }
   },
   "cell_type": "code",
   "source": [
    "# Tạo hàm nhập ma trận với các giá trị ngẫu nhiên trong khoảng (a, b)\n",
    "def creat_matrix(m, n):\n",
    "    # dùng list comprehensive tạo vòng for lồng nhau\n",
    "    Mt = [[random.randint(0, 10) for _ in range(m)] for _ in range(n)]\n",
    "    return Mt\n",
    "            \n",
    "print(creat_matrix(3, 4))   "
   ],
   "id": "301aba209cfac466",
   "outputs": [
    {
     "name": "stdout",
     "output_type": "stream",
     "text": [
      "[[7, 3, 2], [6, 10, 2], [6, 0, 3], [3, 8, 9]]\n"
     ]
    }
   ],
   "execution_count": 51
  },
  {
   "metadata": {
    "ExecuteTime": {
     "end_time": "2025-03-16T08:13:45.697216Z",
     "start_time": "2025-03-16T08:13:45.681117Z"
    }
   },
   "cell_type": "code",
   "source": [
    "def get_input(m, n):\n",
    "    # Kiểm tra điều kiện khi nhập phải là số nguyên\n",
    "    while True:\n",
    "        try:\n",
    "            x = int(input(f'Nhập số nguyên đầu vào tại [{m}][{n}]: '))\n",
    "            return x\n",
    "            break\n",
    "        except ValueError:\n",
    "            print('Error! Đề nghị nhập lại đúng số nguyên')\n",
    "\n",
    "def matrix_elements(m, n):     \n",
    "    # Khởi tạo ma trận\n",
    "    matrix = [[0 for _ in range(n)] for _ in range(m)]\n",
    "    \n",
    "    for row in range(m):\n",
    "        for col in range(n):\n",
    "            elements = get_input(row, col)\n",
    "            print(f'Phần từ tại index [{row},{col}]:', elements)\n",
    "            matrix[row][col] = elements\n",
    "    return matrix    "
   ],
   "id": "9e664e30ebf77b22",
   "outputs": [],
   "execution_count": 86
  },
  {
   "metadata": {
    "ExecuteTime": {
     "end_time": "2025-03-16T08:13:58.055963Z",
     "start_time": "2025-03-16T08:13:48.343005Z"
    }
   },
   "cell_type": "code",
   "source": [
    "matrix1 = matrix_elements(3, 4)\n",
    "print('Ma trận tạo ra:')\n",
    "for rows in matrix1:\n",
    "    print(*rows)"
   ],
   "id": "14383f04dbbdafd",
   "outputs": [
    {
     "name": "stdout",
     "output_type": "stream",
     "text": [
      "Phần từ tại index [0,0]: 1\n",
      "Phần từ tại index [0,1]: 3\n",
      "Phần từ tại index [0,2]: 2\n",
      "Phần từ tại index [0,3]: 4\n",
      "Phần từ tại index [1,0]: 5\n",
      "Phần từ tại index [1,1]: 3\n",
      "Phần từ tại index [1,2]: 6\n",
      "Phần từ tại index [1,3]: 3\n",
      "Phần từ tại index [2,0]: 3\n",
      "Phần từ tại index [2,1]: 2\n",
      "Phần từ tại index [2,2]: 5\n",
      "Phần từ tại index [2,3]: 6\n",
      "Ma trận tạo ra:\n",
      "1 3 2 4\n",
      "5 3 6 3\n",
      "3 2 5 6\n"
     ]
    }
   ],
   "execution_count": 87
  },
  {
   "metadata": {},
   "cell_type": "markdown",
   "source": [
    "# Bài 2: List Slicing\n",
    "\n",
    "Yêu cầu:\n",
    "1. Tạo List: numbers = [0, 1, 2, 3, 4, 5, 6, 7, 8, 9].\n",
    "2. Dùng slicing để:\n",
    "• Trích xuất các số từ chỉ số 2 đến 6.\n",
    "• Lấy các số chẵn (bắt đầu từ 0, bước nhảy 2).\n",
    "• Đảo ngược List.\n",
    "3. In kết quả từng bước."
   ],
   "id": "63d8544d1699fea1"
  },
  {
   "metadata": {
    "ExecuteTime": {
     "end_time": "2025-03-16T04:05:07.402491Z",
     "start_time": "2025-03-16T04:05:07.393031Z"
    }
   },
   "cell_type": "code",
   "source": [
    "lst2 = [0, 1, 2, 3, 4, 5, 6, 7, 8, 9]\n",
    "print(*lst2[2:7])"
   ],
   "id": "47237d83f1448d5b",
   "outputs": [
    {
     "name": "stdout",
     "output_type": "stream",
     "text": [
      "2 3 4 5 6\n"
     ]
    }
   ],
   "execution_count": 72
  },
  {
   "metadata": {
    "ExecuteTime": {
     "end_time": "2025-03-16T04:05:07.840765Z",
     "start_time": "2025-03-16T04:05:07.828710Z"
    }
   },
   "cell_type": "code",
   "source": "print(*lst2[::2])",
   "id": "7a297e0dc46fbe7",
   "outputs": [
    {
     "name": "stdout",
     "output_type": "stream",
     "text": [
      "0 2 4 6 8\n"
     ]
    }
   ],
   "execution_count": 73
  },
  {
   "metadata": {},
   "cell_type": "markdown",
   "source": "##### Chú ý: Trong Jupyter Notebook, nếu bạn dùng list.reverse(), nó sẽ không hiển thị gì vì phương thức này thay đổi danh sách tại chỗ (in-place) và không trả về giá trị nào.",
   "id": "844703f50e636de"
  },
  {
   "metadata": {
    "ExecuteTime": {
     "end_time": "2025-03-16T04:06:58.588868Z",
     "start_time": "2025-03-16T04:06:58.577459Z"
    }
   },
   "cell_type": "code",
   "source": [
    "lst2.reverse()\n",
    "print(*lst2)"
   ],
   "id": "6c96f1a64b271150",
   "outputs": [
    {
     "name": "stdout",
     "output_type": "stream",
     "text": [
      "9 8 7 6 5 4 3 2 1 0\n"
     ]
    }
   ],
   "execution_count": 79
  },
  {
   "metadata": {},
   "cell_type": "markdown",
   "source": [
    "### Bài 3: Set và Tuple\n",
    "\n",
    "Yêu cầu:\n",
    "1. Tạo một List: [1, 2, 2, 3, 4, 4, 5].\n",
    "2. Chuyển List thành Set để loại bỏ trùng lặp, rồi thêm số 6 vào Set.\n",
    "3. Chuyển Set thành Tuple và in ra.\n",
    "4. Tìm giá trị lớn nhất trong Tuple"
   ],
   "id": "c424e0d8214526e8"
  },
  {
   "metadata": {
    "ExecuteTime": {
     "end_time": "2025-03-16T04:16:54.959529Z",
     "start_time": "2025-03-16T04:16:54.951521Z"
    }
   },
   "cell_type": "code",
   "source": [
    "lst3 = [0, 1, 6, 3, 8, 4, 7, 7, 5, 6, 7, 8, 9]\n",
    "set3 = set(lst3)\n",
    "print(f'List ban đầu: {lst3}')\n",
    "print(f'Chuyển thành set: {set3}')\n",
    "tuple3 = tuple(set3)\n",
    "print(f'Chuyển thành tuple: {tuple3}')\n",
    "print('max tuple: ', max(tuple3))"
   ],
   "id": "797a0d80a6dedc6e",
   "outputs": [
    {
     "name": "stdout",
     "output_type": "stream",
     "text": [
      "List ban đầu: [0, 1, 6, 3, 8, 4, 7, 7, 5, 6, 7, 8, 9]\n",
      "Chuyển thành set: {0, 1, 3, 4, 5, 6, 7, 8, 9}\n",
      "Chuyển thành tuple: (0, 1, 3, 4, 5, 6, 7, 8, 9)\n",
      "max tuple:  9\n"
     ]
    }
   ],
   "execution_count": 82
  },
  {
   "metadata": {},
   "cell_type": "markdown",
   "source": "∂f∂x,∂f∂y\\frac{\\partial f}{\\partial x}, \\quad \\frac{\\partial f}{\\partial y}∂x∂f,∂y∂f\n",
   "id": "b95f715e83892ed0"
  },
  {
   "metadata": {},
   "cell_type": "code",
   "outputs": [],
   "execution_count": null,
   "source": "",
   "id": "cd7bbf96e918bdd1"
  }
 ],
 "metadata": {
  "kernelspec": {
   "display_name": "Python 3",
   "language": "python",
   "name": "python3"
  },
  "language_info": {
   "codemirror_mode": {
    "name": "ipython",
    "version": 2
   },
   "file_extension": ".py",
   "mimetype": "text/x-python",
   "name": "python",
   "nbconvert_exporter": "python",
   "pygments_lexer": "ipython2",
   "version": "2.7.6"
  }
 },
 "nbformat": 4,
 "nbformat_minor": 5
}
