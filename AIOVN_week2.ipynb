{
 "cells": [
  {
   "metadata": {
    "ExecuteTime": {
     "end_time": "2025-03-09T13:42:14.683931Z",
     "start_time": "2025-03-09T13:42:14.665117Z"
    }
   },
   "cell_type": "code",
   "source": "import math",
   "id": "84df101dc47aa9b4",
   "outputs": [],
   "execution_count": 1
  },
  {
   "metadata": {},
   "cell_type": "markdown",
   "source": [
    "# WEEK 2 EXERCISE\n",
    "\n",
    "Bài tập phần week 2"
   ],
   "id": "b0b7bef3002659b8"
  },
  {
   "metadata": {},
   "cell_type": "markdown",
   "source": [
    "## Day 4: Taylor Series for (e) and Exponential Functions\n",
    "\n",
    "Số e: `math.exp(n)` \n",
    "$e = {\\sum_{n=0}^{\\infty}\\frac{1}{n!} = 1 + \\frac{1}{1} +  \\frac{1}{2!} + \\frac{1}{3!}...$\n",
    "\n",
    "Công thức `Taylor`:\n",
    "$e^x = {\\sum_{n=0}^{\\infty}\\frac{x^n}{n!} = 1 + \\frac{x}{1} +  \\frac{x^2}{2!} + \\frac{x^3}{3!}...$\n",
    "\n",
    "Để tính số e và $e^x$ cần tính giai thừa. Để tính giai thừa có thể sử dụng đệ quy hoặc vòng lặp for."
   ],
   "id": "15352c1c1de0c93f"
  },
  {
   "cell_type": "code",
   "id": "initial_id",
   "metadata": {
    "collapsed": true,
    "ExecuteTime": {
     "end_time": "2025-03-09T13:42:14.699977Z",
     "start_time": "2025-03-09T13:42:14.685929Z"
    }
   },
   "source": [
    "# Tính giai thừa sủ dụng vòng lặp for\n",
    "def factorial(n):\n",
    "    if n <= 1: return 1\n",
    "    else:\n",
    "        f = 1\n",
    "        for i in range(1, n+1):\n",
    "            f *= i\n",
    "        return f\n",
    "\n",
    "# Tính giai thừa sử dụng đệ quy\n",
    "def factorial_recursive(n):\n",
    "    return n*factorial(n-1) if n > 1 else 1\n",
    "\n",
    "# Thử so sánh 2 kết quả\n",
    "print(f'factorial: {factorial(5)} vs factorial recurrsive: {factorial_recursive(5)}')\n",
    "\n",
    "# So sánh kết quả tính với math.factorial()\n",
    "print(f'factorial: {factorial(5)} vs factorial recurrsive: {math.factorial(5)}')"
   ],
   "outputs": [
    {
     "name": "stdout",
     "output_type": "stream",
     "text": [
      "factorial: 120 vs factorial recurrsive: 120\n",
      "factorial: 120 vs factorial recurrsive: 120\n"
     ]
    }
   ],
   "execution_count": 2
  },
  {
   "metadata": {},
   "cell_type": "markdown",
   "source": "Có thể thấy 2 kết quả của vòng lặp for và đệ quy với `math.factorial()` cho kết quả giống nhau",
   "id": "f02e32752de54647"
  },
  {
   "metadata": {},
   "cell_type": "markdown",
   "source": [
    "### Tính số e\n",
    "Tính số e và so sánh với`math.exp(x)` và `math.e`"
   ],
   "id": "6d64eb5015b8c57a"
  },
  {
   "metadata": {
    "ExecuteTime": {
     "end_time": "2025-03-09T13:42:14.715531Z",
     "start_time": "2025-03-09T13:42:14.700978Z"
    }
   },
   "cell_type": "code",
   "source": [
    "# Có thể sử dụng luôn chuỗi Taylor để tính số e trong trường hợp math.exp(1)\n",
    "# Tính e tương đương với exponential(1, 10) với 10 là số xác định cho trước để tiến gần đến math\n",
    "def exponential(x, n):\n",
    "    if n < 0: return 1\n",
    "    else:\n",
    "        res = 1\n",
    "        for i in range(1, n+1):\n",
    "            res += (x**i)/(factorial(i))\n",
    "        return res\n",
    "\n",
    "# Trường hợp 1: tính số e và so sánh với math, chọn n = 8 ~ exponential(1, 8) vs math.e\n",
    "n1 = 8\n",
    "dev1 = abs(exponential(1, n1) - math.e)\n",
    "print(f'Kết quả tính e với {n1} số hạng ~ exponential(1, {n1}) sử dụng chuỗi Taylor: ', exponential(1, n1))\n",
    "print('Kết quả tính e với math.e: {:>62}'.format(math.e))\n",
    "print(f'Độ chệch: {dev1:>70,.2e}')"
   ],
   "id": "91bd82f3596ac1dd",
   "outputs": [
    {
     "name": "stdout",
     "output_type": "stream",
     "text": [
      "Kết quả tính e với 8 số hạng ~ exponential(1, 8) sử dụng chuỗi Taylor:  2.71827876984127\n",
      "Kết quả tính e với math.e:                                              2.718281828459045\n",
      "Độ chệch:                                                               3.06e-06\n"
     ]
    }
   ],
   "execution_count": 3
  },
  {
   "metadata": {
    "ExecuteTime": {
     "end_time": "2025-03-09T13:42:14.731556Z",
     "start_time": "2025-03-09T13:42:14.716532Z"
    }
   },
   "cell_type": "code",
   "source": [
    "# Trường hợp 2: tính số e^x và so sánh với math.exp(x), chọn n2 = 10 ~ exponential(x, n2) vs math.exp(2)\n",
    "n2 = 10\n",
    "x = 2\n",
    "dev2 = abs(exponential(x, n2) - math.exp(2))\n",
    "print(f'Kết quả tính e^{x} với {n2} số hạng ~ exponential(1, {n2}) sử dụng chuỗi Taylor: ', exponential(x, n2))\n",
    "print('Kết quả tính e^{:x} với math.e: {:>63}'.format(x, math.exp(x)))\n",
    "print(f'Độ chệch: {dev2:>75,.2e}')"
   ],
   "id": "70322e7dd3a721c6",
   "outputs": [
    {
     "name": "stdout",
     "output_type": "stream",
     "text": [
      "Kết quả tính e^2 với 10 số hạng ~ exponential(1, 10) sử dụng chuỗi Taylor:  7.388994708994708\n",
      "Kết quả tính e^2 với math.e:                                                7.38905609893065\n",
      "Độ chệch:                                                                    6.14e-05\n"
     ]
    }
   ],
   "execution_count": 4
  },
  {
   "metadata": {},
   "cell_type": "markdown",
   "source": "",
   "id": "9f178b7b3051beed"
  },
  {
   "metadata": {},
   "cell_type": "markdown",
   "source": [
    "## DAY 5:  Practice Programming\n",
    "\n",
    "Practice Programming"
   ],
   "id": "a8bc4c5a16302313"
  },
  {
   "metadata": {},
   "cell_type": "markdown",
   "source": [
    "### Bài tập 1\n",
    "Tìm các số nguyên tố trong khoảng từ 1 đến N `is_prime`\n",
    "Số N là số nguyên tố khi từ 2 - N không tồn tại số nguyên mà N chia hết.\n",
    "Cách xác định số n có phải nguyên tố không:\n",
    "\n",
    "* Quét các số từ 2 đến $\\sqrt{n}$\n",
    "* Nếu không có số nào n chia hết thì n là số nguyên tố\n"
   ],
   "id": "5608dcf9f5080e33"
  },
  {
   "metadata": {
    "ExecuteTime": {
     "end_time": "2025-03-09T13:42:14.747570Z",
     "start_time": "2025-03-09T13:42:14.733532Z"
    }
   },
   "cell_type": "code",
   "source": [
    "def is_prime(x):\n",
    "    \"\"\"\n",
    "    determine the value is prime number or not\n",
    "    :param x: input value \n",
    "    :return: true if x is prime, false otherwise\n",
    "    \"\"\"\n",
    "    if x < 2: return False\n",
    "    else:\n",
    "        for i in range(2, int(x**0.5) + 1):\n",
    "            if x%i == 0:\n",
    "                return False\n",
    "                break\n",
    "        return True"
   ],
   "id": "d60dbbf381b8b64e",
   "outputs": [],
   "execution_count": 5
  },
  {
   "metadata": {},
   "cell_type": "markdown",
   "source": "Sàng lọc các số nguyên tốc trong giải từ 1 - N",
   "id": "cef7456c44cf287d"
  },
  {
   "metadata": {
    "ExecuteTime": {
     "end_time": "2025-03-09T13:42:20.314001Z",
     "start_time": "2025-03-09T13:42:14.748538Z"
    }
   },
   "cell_type": "code",
   "source": [
    "def list_primes(n):\n",
    "    if n < 2: return 0\n",
    "    for i in range(2, n+1):\n",
    "        if is_prime(i): print(i, end=',')\n",
    "\n",
    "z = int(input('Nhap số đầu vào = '))      \n",
    "list_primes(z)"
   ],
   "id": "28d5eb44e08dacb3",
   "outputs": [
    {
     "name": "stdout",
     "output_type": "stream",
     "text": [
      "2,3,5,7,11,13,17,19,"
     ]
    }
   ],
   "execution_count": 6
  },
  {
   "metadata": {},
   "cell_type": "markdown",
   "source": [
    "##### Sàng nguyên tố Eratosthenes (tham khảo)\n",
    "Sàng Eratosthenes sử dụng list để xác định giải số nguyên tố."
   ],
   "id": "c972144d982d838d"
  },
  {
   "metadata": {
    "ExecuteTime": {
     "end_time": "2025-03-09T13:42:20.329521Z",
     "start_time": "2025-03-09T13:42:20.314986Z"
    }
   },
   "cell_type": "code",
   "source": [
    "def eratosthenes_list(n):\n",
    "    prime = [True] * (n+1)\n",
    "    prime[0] = prime[1] = False\n",
    "    for i in range(2, n+1):\n",
    "        if prime[i]:\n",
    "            # Loop ngược từ mũ i với khoảng giãn n+1 quay về i\n",
    "            for j in range(i*i, n+1, i):\n",
    "                prime[j] = False\n",
    "    return [i for i in range(2, n+1) if prime[i]]\n",
    "\n",
    "print(eratosthenes_list(20))"
   ],
   "id": "e12d1e22cbc47a02",
   "outputs": [
    {
     "name": "stdout",
     "output_type": "stream",
     "text": [
      "[2, 3, 5, 7, 11, 13, 17, 19]\n"
     ]
    }
   ],
   "execution_count": 7
  },
  {
   "metadata": {},
   "cell_type": "markdown",
   "source": [
    "### Bài tập 2\n",
    "Số hoàn hảo - perfect number là dạng số mà các ước số thực sự của số đó có tổng bằng chính nó.\n",
    "Cách xác định n có phải số hoàn hảo ko:\n",
    "* Tìm các ước số thực sự của n bằng cách chia n từ 1 đến n-1\n",
    "* Tính tổng và so sánh với n"
   ],
   "id": "b36662786e235a0f"
  },
  {
   "metadata": {
    "ExecuteTime": {
     "end_time": "2025-03-09T13:42:20.345555Z",
     "start_time": "2025-03-09T13:42:20.331519Z"
    }
   },
   "cell_type": "code",
   "source": [
    "def is_perfect(n):\n",
    "    if n < 1: return False\n",
    "    else:\n",
    "        sum_n = 0\n",
    "        # Chú ý không được xét cả n, nếu không kết quả sẽ bị sai\n",
    "        for i in range(1, n):\n",
    "            if n % i == 0:\n",
    "                sum_n += i\n",
    "        return True if sum_n == n else False\n",
    "  \n",
    "# Kiểm tra lại\n",
    "print(is_perfect(6))"
   ],
   "id": "8ba6e03d763cb92",
   "outputs": [
    {
     "name": "stdout",
     "output_type": "stream",
     "text": [
      "True\n"
     ]
    }
   ],
   "execution_count": 8
  },
  {
   "metadata": {},
   "cell_type": "markdown",
   "source": [
    "## Day 6: Derivative and Its Application: Newton Method\n",
    "\n",
    "Ứng dụng lý thuyết đạo hàm vào tính toán (sau này là Gradient). Phương pháp Newton-Raphson\n",
    "Phương pháp Newton (Newton-Raphson) là một kỹ thuật lặp để tìm nghiệm gần đúng của\n",
    "phương trình phi tuyến `f(x) = 0`. Phương pháp này dựa trên việc sử dụng đạo hàm và tiếp\n",
    "tuyến của hàm tại một điểm để dự đoán nghiệm tiếp theo.\n",
    "\n",
    "Từ một giá trị ban đầu x0 (ước lượng gần đúng của nghiệm), ta\n",
    "xây dựng một chuỗi các giá trị x1, x2, x3, . . . sao cho mỗi bước tiến gần hơn đến nghiệm\n",
    "thực sự. Công thức lặp của phương pháp Newton là: $$x_(n+1) = x_(n) - \\frac{f(x_n)}{f'(x_n)}$$"
   ],
   "id": "ebbc18818a662c49"
  },
  {
   "metadata": {},
   "cell_type": "markdown",
   "source": [
    "Bước thực hiện:\n",
    "\n",
    "S1. Chọn một giá trị khởi đầu x0 (dựa trên ước lượng ban đầu hoặc đồ thị của hàm).\n",
    "\n",
    "S2. Tính f(x0) và f ′(x0).\n",
    "\n",
    "S3. Áp dụng công thức Newton để tính x1.\n",
    "\n",
    "S4. Lặp lại quá trình cho đến khi |xn+1 − xn| nhỏ hơn một sai số cho phép (thường gọi là ϵ), hoặc f(xn) đủ gần 0."
   ],
   "id": "9e65ea0d1e2816e1"
  },
  {
   "metadata": {},
   "cell_type": "markdown",
   "source": [
    "### Bài tập 1 \n",
    "Ứng dụng vòng lăp White để lấy từng chữ số cuối cùng bằng phép chia dư\n"
   ],
   "id": "434e1beccf939ebb"
  },
  {
   "metadata": {
    "ExecuteTime": {
     "end_time": "2025-03-09T13:42:20.361516Z",
     "start_time": "2025-03-09T13:42:20.347559Z"
    }
   },
   "cell_type": "code",
   "source": [
    "def sum_digit_numbers(n):\n",
    "    S = 0\n",
    "    while n != 0:\n",
    "        last_digit = n % 10\n",
    "        S += last_digit\n",
    "        n //= 10\n",
    "    return S\n",
    "\n",
    "print(sum_digit_numbers(21))"
   ],
   "id": "603e3ba927137203",
   "outputs": [
    {
     "name": "stdout",
     "output_type": "stream",
     "text": [
      "3\n"
     ]
    }
   ],
   "execution_count": 9
  },
  {
   "metadata": {},
   "cell_type": "markdown",
   "source": [
    "### Bài tập 2\n",
    "Dùng vòng lặp While để giải phương trình tìm nghiệm bằng pp Newton\n",
    "Viết chương trình sử dụng vòng lặp while để tìm nghiệm của phương trình $f(x) = x^3 − 3x + 1 = 0$ bằng phương pháp Newton. Yêu cầu:\n",
    "* Chọn giá trị ban đầu $x_0 = 5$.\n",
    "* Dừng khi sai số giữa hai lần lặp liên tiếp nhỏ hơn ϵ = 0.0001.\n",
    "* In ra giá trị nghiệm gần đúng và số lần lặp"
   ],
   "id": "18f6f94c6ff9fa3"
  },
  {
   "metadata": {
    "ExecuteTime": {
     "end_time": "2025-03-09T13:50:11.674690Z",
     "start_time": "2025-03-09T13:50:11.664599Z"
    }
   },
   "cell_type": "code",
   "source": [
    "epsilon = 10**(-6)\n",
    "n = 1000 # Số lần lặp\n",
    "x = 5\n",
    "i = 0\n",
    "while True:\n",
    "    f = x**3 - 3*x + 1\n",
    "    df = 3*x**2 - 3\n",
    "    x -= (f/df)\n",
    "    i += 1\n",
    "    print('Lân lặp thứ {}: x = {:.4f}'.format(i, x))\n",
    "    if abs(f) < epsilon or i > n:\n",
    "        break\n",
    "\n",
    "print('Nghiem cuoi {:.4f}'.format(x))"
   ],
   "id": "3a0eb1932f1cc5d1",
   "outputs": [
    {
     "name": "stdout",
     "output_type": "stream",
     "text": [
      "Lân lặp thứ 1: x = 3.4583\n",
      "Lân lặp thứ 2: x = 2.4855\n",
      "Lân lặp thứ 3: x = 1.9126\n",
      "Lân lặp thứ 4: x = 1.6294\n",
      "Lân lặp thứ 5: x = 1.5412\n",
      "Lân lặp thứ 6: x = 1.5322\n",
      "Lân lặp thứ 7: x = 1.5321\n",
      "Lân lặp thứ 8: x = 1.5321\n",
      "Nghiem cuoi 1.5321\n"
     ]
    }
   ],
   "execution_count": 31
  }
 ],
 "metadata": {
  "kernelspec": {
   "display_name": "Python 3",
   "language": "python",
   "name": "python3"
  },
  "language_info": {
   "codemirror_mode": {
    "name": "ipython",
    "version": 2
   },
   "file_extension": ".py",
   "mimetype": "text/x-python",
   "name": "python",
   "nbconvert_exporter": "python",
   "pygments_lexer": "ipython2",
   "version": "2.7.6"
  }
 },
 "nbformat": 4,
 "nbformat_minor": 5
}
