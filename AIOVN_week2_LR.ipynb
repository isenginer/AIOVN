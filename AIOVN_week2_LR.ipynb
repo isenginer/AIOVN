{
 "cells": [
  {
   "metadata": {},
   "cell_type": "markdown",
   "source": "# CALCULUS: ĐẠO HÀM VÀ CÁCH NHÌN KHÁC CỦA LINEAR REGRESSION",
   "id": "fe9ef37066328f6d"
  },
  {
   "metadata": {},
   "cell_type": "markdown",
   "source": [
    "Cơ bản về bài toán LR:\n",
    "\n",
    "Giá sử có một model y = wx + b\n",
    "\n",
    "Tìm w và b để fit các data dự đoán sao cho khớp nhất với mô hình.\n",
    "\n",
    "Tại đây hàm Loss (L) = y - $\\hat{y}$ - để tìm cực đại hoặc cực tiểu, sử dụng L2 Norm để đạo hàm được dễ dàng hơn\n",
    "\n",
    "L1 là sử dụng trị tuyệt đối |L|, L2 là bình phương $L^2$\n",
    "\n"
   ],
   "id": "61cc62dfee663f39"
  },
  {
   "metadata": {},
   "cell_type": "markdown",
   "source": [
    "### Linear Regression in Simple method\n",
    "\n",
    "Code dưới đây thể hiện bước cơ bản để thực hiện việc tìm $w_i$ và bias theo L2_norm \n",
    "\n",
    "S1: $\\hat{y}$ = $w_i$x + b, lấy sample là một mẫu training của 1 data\n",
    "\n",
    "S2: Tính $\\hat{y}$ = $w*x_i$ + b\n",
    "\n",
    "S3: Tính hàm mất mát Loss L = ($\\hat{y} - y_i$)\n",
    "\n",
    "S3: Tính toán đạo hàm \n",
    "$$\\frac{\\partial{L}}{\\partial{w}} = {\\frac{\\partial{L}}{\\partial{\\hat{y}}}*\\frac{d\\hat{y}}{w}$$ và $$\\frac{\\partial{L}}{\\partial{b}} = \\frac{\\partial{L}}{\\partial{\\hat{y}}}*\\frac{d\\hat{y}}{b}$$\n",
    "\n",
    "S4: Xác định các tham số dựa trên learning rate {\\eta}, hay step size \n",
    "\n",
    "$$w_i$ = $w - \\eta* \\frac{\\partial{L}}{\\partial{w}}$$\n",
    "$$b_i$ = $b - \\eta* \\frac{\\partial{L}}{\\partial{b}}$$  \n",
    "\n",
    "Chú ý: Có thể khởi tạo các tham số ban đầu bằng chuẩn Gauss"
   ],
   "id": "e989fa7eb95d6593"
  },
  {
   "metadata": {
    "ExecuteTime": {
     "end_time": "2025-03-14T06:41:14.402598Z",
     "start_time": "2025-03-14T06:41:14.386666Z"
    }
   },
   "cell_type": "code",
   "source": [
    "# import library\n",
    "import pandas as pd\n",
    "import numpy as np"
   ],
   "id": "84c2297662faf434",
   "outputs": [],
   "execution_count": 1
  },
  {
   "metadata": {
    "ExecuteTime": {
     "end_time": "2025-03-14T06:41:14.495702Z",
     "start_time": "2025-03-14T06:41:14.404857Z"
    }
   },
   "cell_type": "code",
   "source": [
    "# Import data from one train data\n",
    "train_data = pd.read_csv('kc_house_train_data.csv')\n",
    "train_data.head()"
   ],
   "id": "aea2b99ceaff059f",
   "outputs": [
    {
     "data": {
      "text/plain": [
       "           id             date     price  bedrooms  bathrooms  sqft_living  \\\n",
       "0  7129300520  20141013T000000  221900.0         3       1.00         1180   \n",
       "1  6414100192  20141209T000000  538000.0         3       2.25         2570   \n",
       "2  5631500400  20150225T000000  180000.0         2       1.00          770   \n",
       "3  2487200875  20141209T000000  604000.0         4       3.00         1960   \n",
       "4  1954400510  20150218T000000  510000.0         3       2.00         1680   \n",
       "\n",
       "   sqft_lot  floors  waterfront  view  ...  grade  sqft_above  sqft_basement  \\\n",
       "0      5650     1.0           0     0  ...      7        1180              0   \n",
       "1      7242     2.0           0     0  ...      7        2170            400   \n",
       "2     10000     1.0           0     0  ...      6         770              0   \n",
       "3      5000     1.0           0     0  ...      7        1050            910   \n",
       "4      8080     1.0           0     0  ...      8        1680              0   \n",
       "\n",
       "   yr_built  yr_renovated  zipcode      lat     long  sqft_living15  \\\n",
       "0      1955             0    98178  47.5112 -122.257           1340   \n",
       "1      1951          1991    98125  47.7210 -122.319           1690   \n",
       "2      1933             0    98028  47.7379 -122.233           2720   \n",
       "3      1965             0    98136  47.5208 -122.393           1360   \n",
       "4      1987             0    98074  47.6168 -122.045           1800   \n",
       "\n",
       "   sqft_lot15  \n",
       "0        5650  \n",
       "1        7639  \n",
       "2        8062  \n",
       "3        5000  \n",
       "4        7503  \n",
       "\n",
       "[5 rows x 21 columns]"
      ],
      "text/html": [
       "<div>\n",
       "<style scoped>\n",
       "    .dataframe tbody tr th:only-of-type {\n",
       "        vertical-align: middle;\n",
       "    }\n",
       "\n",
       "    .dataframe tbody tr th {\n",
       "        vertical-align: top;\n",
       "    }\n",
       "\n",
       "    .dataframe thead th {\n",
       "        text-align: right;\n",
       "    }\n",
       "</style>\n",
       "<table border=\"1\" class=\"dataframe\">\n",
       "  <thead>\n",
       "    <tr style=\"text-align: right;\">\n",
       "      <th></th>\n",
       "      <th>id</th>\n",
       "      <th>date</th>\n",
       "      <th>price</th>\n",
       "      <th>bedrooms</th>\n",
       "      <th>bathrooms</th>\n",
       "      <th>sqft_living</th>\n",
       "      <th>sqft_lot</th>\n",
       "      <th>floors</th>\n",
       "      <th>waterfront</th>\n",
       "      <th>view</th>\n",
       "      <th>...</th>\n",
       "      <th>grade</th>\n",
       "      <th>sqft_above</th>\n",
       "      <th>sqft_basement</th>\n",
       "      <th>yr_built</th>\n",
       "      <th>yr_renovated</th>\n",
       "      <th>zipcode</th>\n",
       "      <th>lat</th>\n",
       "      <th>long</th>\n",
       "      <th>sqft_living15</th>\n",
       "      <th>sqft_lot15</th>\n",
       "    </tr>\n",
       "  </thead>\n",
       "  <tbody>\n",
       "    <tr>\n",
       "      <th>0</th>\n",
       "      <td>7129300520</td>\n",
       "      <td>20141013T000000</td>\n",
       "      <td>221900.0</td>\n",
       "      <td>3</td>\n",
       "      <td>1.00</td>\n",
       "      <td>1180</td>\n",
       "      <td>5650</td>\n",
       "      <td>1.0</td>\n",
       "      <td>0</td>\n",
       "      <td>0</td>\n",
       "      <td>...</td>\n",
       "      <td>7</td>\n",
       "      <td>1180</td>\n",
       "      <td>0</td>\n",
       "      <td>1955</td>\n",
       "      <td>0</td>\n",
       "      <td>98178</td>\n",
       "      <td>47.5112</td>\n",
       "      <td>-122.257</td>\n",
       "      <td>1340</td>\n",
       "      <td>5650</td>\n",
       "    </tr>\n",
       "    <tr>\n",
       "      <th>1</th>\n",
       "      <td>6414100192</td>\n",
       "      <td>20141209T000000</td>\n",
       "      <td>538000.0</td>\n",
       "      <td>3</td>\n",
       "      <td>2.25</td>\n",
       "      <td>2570</td>\n",
       "      <td>7242</td>\n",
       "      <td>2.0</td>\n",
       "      <td>0</td>\n",
       "      <td>0</td>\n",
       "      <td>...</td>\n",
       "      <td>7</td>\n",
       "      <td>2170</td>\n",
       "      <td>400</td>\n",
       "      <td>1951</td>\n",
       "      <td>1991</td>\n",
       "      <td>98125</td>\n",
       "      <td>47.7210</td>\n",
       "      <td>-122.319</td>\n",
       "      <td>1690</td>\n",
       "      <td>7639</td>\n",
       "    </tr>\n",
       "    <tr>\n",
       "      <th>2</th>\n",
       "      <td>5631500400</td>\n",
       "      <td>20150225T000000</td>\n",
       "      <td>180000.0</td>\n",
       "      <td>2</td>\n",
       "      <td>1.00</td>\n",
       "      <td>770</td>\n",
       "      <td>10000</td>\n",
       "      <td>1.0</td>\n",
       "      <td>0</td>\n",
       "      <td>0</td>\n",
       "      <td>...</td>\n",
       "      <td>6</td>\n",
       "      <td>770</td>\n",
       "      <td>0</td>\n",
       "      <td>1933</td>\n",
       "      <td>0</td>\n",
       "      <td>98028</td>\n",
       "      <td>47.7379</td>\n",
       "      <td>-122.233</td>\n",
       "      <td>2720</td>\n",
       "      <td>8062</td>\n",
       "    </tr>\n",
       "    <tr>\n",
       "      <th>3</th>\n",
       "      <td>2487200875</td>\n",
       "      <td>20141209T000000</td>\n",
       "      <td>604000.0</td>\n",
       "      <td>4</td>\n",
       "      <td>3.00</td>\n",
       "      <td>1960</td>\n",
       "      <td>5000</td>\n",
       "      <td>1.0</td>\n",
       "      <td>0</td>\n",
       "      <td>0</td>\n",
       "      <td>...</td>\n",
       "      <td>7</td>\n",
       "      <td>1050</td>\n",
       "      <td>910</td>\n",
       "      <td>1965</td>\n",
       "      <td>0</td>\n",
       "      <td>98136</td>\n",
       "      <td>47.5208</td>\n",
       "      <td>-122.393</td>\n",
       "      <td>1360</td>\n",
       "      <td>5000</td>\n",
       "    </tr>\n",
       "    <tr>\n",
       "      <th>4</th>\n",
       "      <td>1954400510</td>\n",
       "      <td>20150218T000000</td>\n",
       "      <td>510000.0</td>\n",
       "      <td>3</td>\n",
       "      <td>2.00</td>\n",
       "      <td>1680</td>\n",
       "      <td>8080</td>\n",
       "      <td>1.0</td>\n",
       "      <td>0</td>\n",
       "      <td>0</td>\n",
       "      <td>...</td>\n",
       "      <td>8</td>\n",
       "      <td>1680</td>\n",
       "      <td>0</td>\n",
       "      <td>1987</td>\n",
       "      <td>0</td>\n",
       "      <td>98074</td>\n",
       "      <td>47.6168</td>\n",
       "      <td>-122.045</td>\n",
       "      <td>1800</td>\n",
       "      <td>7503</td>\n",
       "    </tr>\n",
       "  </tbody>\n",
       "</table>\n",
       "<p>5 rows × 21 columns</p>\n",
       "</div>"
      ]
     },
     "execution_count": 2,
     "metadata": {},
     "output_type": "execute_result"
    }
   ],
   "execution_count": 2
  },
  {
   "metadata": {
    "ExecuteTime": {
     "end_time": "2025-03-14T06:41:14.537050Z",
     "start_time": "2025-03-14T06:41:14.498719Z"
    }
   },
   "cell_type": "code",
   "source": "train_data.info()",
   "id": "f24f2c2357493534",
   "outputs": [
    {
     "name": "stdout",
     "output_type": "stream",
     "text": [
      "<class 'pandas.core.frame.DataFrame'>\n",
      "RangeIndex: 17384 entries, 0 to 17383\n",
      "Data columns (total 21 columns):\n",
      " #   Column         Non-Null Count  Dtype  \n",
      "---  ------         --------------  -----  \n",
      " 0   id             17384 non-null  int64  \n",
      " 1   date           17384 non-null  object \n",
      " 2   price          17384 non-null  float64\n",
      " 3   bedrooms       17384 non-null  int64  \n",
      " 4   bathrooms      17384 non-null  float64\n",
      " 5   sqft_living    17384 non-null  int64  \n",
      " 6   sqft_lot       17384 non-null  int64  \n",
      " 7   floors         17384 non-null  float64\n",
      " 8   waterfront     17384 non-null  int64  \n",
      " 9   view           17384 non-null  int64  \n",
      " 10  condition      17384 non-null  int64  \n",
      " 11  grade          17384 non-null  int64  \n",
      " 12  sqft_above     17384 non-null  int64  \n",
      " 13  sqft_basement  17384 non-null  int64  \n",
      " 14  yr_built       17384 non-null  int64  \n",
      " 15  yr_renovated   17384 non-null  int64  \n",
      " 16  zipcode        17384 non-null  int64  \n",
      " 17  lat            17384 non-null  float64\n",
      " 18  long           17384 non-null  float64\n",
      " 19  sqft_living15  17384 non-null  int64  \n",
      " 20  sqft_lot15     17384 non-null  int64  \n",
      "dtypes: float64(5), int64(15), object(1)\n",
      "memory usage: 2.8+ MB\n"
     ]
    }
   ],
   "execution_count": 3
  },
  {
   "metadata": {},
   "cell_type": "markdown",
   "source": "Từ dữ liệu trên tách ra 3 đặc trưng: 'price', 'bathroom' và 'bedrooms' để tính toán tham số cho mô hình hồi quy đơn giản",
   "id": "67073ae232d37530"
  },
  {
   "metadata": {
    "ExecuteTime": {
     "end_time": "2025-03-14T06:41:14.557275Z",
     "start_time": "2025-03-14T06:41:14.539060Z"
    }
   },
   "cell_type": "code",
   "source": [
    "train_data_1 = train_data[['price', 'bedrooms', 'sqft_living']][:100]\n",
    "train_data_1.head()"
   ],
   "id": "43c414cee4c7b701",
   "outputs": [
    {
     "data": {
      "text/plain": [
       "      price  bedrooms  sqft_living\n",
       "0  221900.0         3         1180\n",
       "1  538000.0         3         2570\n",
       "2  180000.0         2          770\n",
       "3  604000.0         4         1960\n",
       "4  510000.0         3         1680"
      ],
      "text/html": [
       "<div>\n",
       "<style scoped>\n",
       "    .dataframe tbody tr th:only-of-type {\n",
       "        vertical-align: middle;\n",
       "    }\n",
       "\n",
       "    .dataframe tbody tr th {\n",
       "        vertical-align: top;\n",
       "    }\n",
       "\n",
       "    .dataframe thead th {\n",
       "        text-align: right;\n",
       "    }\n",
       "</style>\n",
       "<table border=\"1\" class=\"dataframe\">\n",
       "  <thead>\n",
       "    <tr style=\"text-align: right;\">\n",
       "      <th></th>\n",
       "      <th>price</th>\n",
       "      <th>bedrooms</th>\n",
       "      <th>sqft_living</th>\n",
       "    </tr>\n",
       "  </thead>\n",
       "  <tbody>\n",
       "    <tr>\n",
       "      <th>0</th>\n",
       "      <td>221900.0</td>\n",
       "      <td>3</td>\n",
       "      <td>1180</td>\n",
       "    </tr>\n",
       "    <tr>\n",
       "      <th>1</th>\n",
       "      <td>538000.0</td>\n",
       "      <td>3</td>\n",
       "      <td>2570</td>\n",
       "    </tr>\n",
       "    <tr>\n",
       "      <th>2</th>\n",
       "      <td>180000.0</td>\n",
       "      <td>2</td>\n",
       "      <td>770</td>\n",
       "    </tr>\n",
       "    <tr>\n",
       "      <th>3</th>\n",
       "      <td>604000.0</td>\n",
       "      <td>4</td>\n",
       "      <td>1960</td>\n",
       "    </tr>\n",
       "    <tr>\n",
       "      <th>4</th>\n",
       "      <td>510000.0</td>\n",
       "      <td>3</td>\n",
       "      <td>1680</td>\n",
       "    </tr>\n",
       "  </tbody>\n",
       "</table>\n",
       "</div>"
      ]
     },
     "execution_count": 4,
     "metadata": {},
     "output_type": "execute_result"
    }
   ],
   "execution_count": 4
  },
  {
   "metadata": {
    "ExecuteTime": {
     "end_time": "2025-03-14T06:41:14.573058Z",
     "start_time": "2025-03-14T06:41:14.557275Z"
    }
   },
   "cell_type": "code",
   "source": "train_data_1.iloc[2, 2]",
   "id": "e547cd289f2865ef",
   "outputs": [
    {
     "data": {
      "text/plain": [
       "770"
      ]
     },
     "execution_count": 5,
     "metadata": {},
     "output_type": "execute_result"
    }
   ],
   "execution_count": 5
  },
  {
   "metadata": {},
   "cell_type": "markdown",
   "source": "Quan sát dữ liệu đặc trưng của giá nhà theo bed_rooms và sqrt_living",
   "id": "3643d19b3ce75c3e"
  },
  {
   "metadata": {
    "ExecuteTime": {
     "end_time": "2025-03-14T06:41:14.905232Z",
     "start_time": "2025-03-14T06:41:14.575065Z"
    }
   },
   "cell_type": "code",
   "source": [
    "import matplotlib as mpl\n",
    "import matplotlib.pyplot as plt\n",
    "\n",
    "fig, ax1 = plt.subplots(figsize=(8, 8))\n",
    "\n",
    "# ax1.plot(kind='bar')\n",
    "ax1.scatter(train_data_1['price'], train_data_1['bedrooms'], color='r')\n",
    "ax2 = ax1.twinx()\n",
    "\n",
    "ax2.scatter(train_data_1['price'], train_data_1['sqft_living'], color='b' )\n",
    "\n"
   ],
   "id": "fa8a3da944946a58",
   "outputs": [
    {
     "data": {
      "text/plain": [
       "<matplotlib.collections.PathCollection at 0x1eb54ae9b80>"
      ]
     },
     "execution_count": 6,
     "metadata": {},
     "output_type": "execute_result"
    },
    {
     "data": {
      "text/plain": [
       "<Figure size 576x576 with 2 Axes>"
      ],
      "image/png": "[encoded data removed]"
     },
     "metadata": {
      "needs_background": "light"
     },
     "output_type": "display_data"
    }
   ],
   "execution_count": 6
  },
  {
   "metadata": {},
   "cell_type": "markdown",
   "source": "Hoặc tìm đồ thị tương quan",
   "id": "d845e9549010b6d0"
  },
  {
   "metadata": {
    "ExecuteTime": {
     "end_time": "2025-03-14T06:41:15.072322Z",
     "start_time": "2025-03-14T06:41:14.907274Z"
    }
   },
   "cell_type": "code",
   "source": [
    "import seaborn as sns\n",
    "\n",
    "sns.heatmap(train_data_1.corr(), annot=True, fmt='.2f')"
   ],
   "id": "28f7eb857746e8d5",
   "outputs": [
    {
     "data": {
      "text/plain": [
       "<AxesSubplot:>"
      ]
     },
     "execution_count": 7,
     "metadata": {},
     "output_type": "execute_result"
    },
    {
     "data": {
      "text/plain": [
       "<Figure size 432x288 with 2 Axes>"
      ],
      "image/png": "[encoded data removed]"
     },
     "metadata": {
      "needs_background": "light"
     },
     "output_type": "display_data"
    }
   ],
   "execution_count": 7
  },
  {
   "metadata": {},
   "cell_type": "markdown",
   "source": "##### Có thể thấy sự tương quan giữa sqft_living và price là cao hơn nhiều so với bedroom",
   "id": "af224674e41303f8"
  },
  {
   "metadata": {},
   "cell_type": "markdown",
   "source": "Áp dụng 1 bài toán tìm cực trị của các tham số theo Stochastic Gradient Descent",
   "id": "6483fc1b153425ac"
  },
  {
   "metadata": {
    "ExecuteTime": {
     "end_time": "2025-03-14T06:41:15.082931Z",
     "start_time": "2025-03-14T06:41:15.072926Z"
    }
   },
   "cell_type": "code",
   "source": [
    "# Creat LR function with 2 features\n",
    "def predict_lr(w1, w2, x1, x2, b):\n",
    "    return w1*x1 + w2*x2 + b\n",
    "\n",
    "# Compute loss function\n",
    "def loss_func(y_predict, y):\n",
    "    return (y_predict - y) ** 2\n",
    "\n",
    "# Compute derivative \n",
    "def gradient_w(y_predict, y, xi):\n",
    "    # dL/dw\n",
    "    dl_dw = 2*xi*(y_predict - y)\n",
    "    return dl_dw\n",
    "\n",
    "def gradient_bias(y_predict, y):\n",
    "    # dL/db\n",
    "    dl_db = 2*(y_predict - y) \n",
    "    return dl_db\n",
    "\n",
    "def update_weight_wi(wi, dl_dw, eps):\n",
    "    wi -=(eps*dl_dw)\n",
    "    return wi\n",
    "\n",
    "def update_weight_bias(b, dl_db, eps):\n",
    "    b -= (eps*dl_db)\n",
    "    return b\n"
   ],
   "id": "b4340166e1c54703",
   "outputs": [],
   "execution_count": 8
  },
  {
   "metadata": {},
   "cell_type": "markdown",
   "source": "Tạo hàm tính toán và trả về các giá trị tham số dựa vào công thức Newton-Raphson",
   "id": "f56c7f00b8b5cbfc"
  },
  {
   "metadata": {
    "ExecuteTime": {
     "end_time": "2025-03-14T06:41:15.098606Z",
     "start_time": "2025-03-14T06:41:15.084980Z"
    }
   },
   "cell_type": "code",
   "source": [
    "def lr_parameter_calculate(data, epoch_max, epsilon, N):\n",
    "    # Khởi tạo các tham số wi\n",
    "    import random\n",
    "    w1 = random.gauss(mu=0, sigma=.01)\n",
    "    w2 = random.gauss(mu=0, sigma=.01)\n",
    "    b = 0\n",
    "    loss = []\n",
    "    # loop để lặp tìm w\n",
    "    for epoch in range(epoch_max):\n",
    "        for i in range(N):\n",
    "            x1 = data.iloc[i, 1]\n",
    "            x2 = data.iloc[i, 2]\n",
    "            y = data.iloc[i, 0]            \n",
    "            \n",
    "            # Tính giá trị predict\n",
    "            y_hat = predict_lr(w1, w2, x1, x2, b)\n",
    "            \n",
    "            # Tinh loss\n",
    "            loss.append(loss_func(y_hat, y))\n",
    "            \n",
    "            # Tính toán đạo hàm\n",
    "            dl_dw1 = gradient_w(y_hat, y, x1)\n",
    "            dl_dw2 = gradient_w(y_hat, y, x2)\n",
    "            dl_db = gradient_bias(y_hat, y)\n",
    "            \n",
    "            # update weight\n",
    "            w1 = update_weight_wi(w1, dl_dw1, epsilon)\n",
    "            w2 = update_weight_wi(w2, dl_dw2, epsilon)\n",
    "            b = update_weight_bias(b, dl_db, epsilon)\n",
    "            \n",
    "    return loss           "
   ],
   "id": "79144d148e255ac8",
   "outputs": [],
   "execution_count": 9
  },
  {
   "metadata": {
    "ExecuteTime": {
     "end_time": "2025-03-14T06:41:31.713920Z",
     "start_time": "2025-03-14T06:41:31.657027Z"
    }
   },
   "cell_type": "code",
   "source": [
    "# Sô lần lặp \n",
    "epoch_max = 10\n",
    "epsilon = 1e-5\n",
    "N = len(train_data_1)\n",
    "\n",
    "loss_data = lr_parameter_calculate(train_data_1, epoch_max, epsilon, N)\n",
    "\n",
    "print(loss_data[:10])"
   ],
   "id": "e3eeef100ba527da",
   "outputs": [
    {
     "name": "stdout",
     "output_type": "stream",
     "text": [
      "[49247504243.23771, 166971965178476.66, 2.5762389910646032e+17, 1.9679461933259955e+20, 8.314346790596934e+23, 2.660609990230659e+28, 9.164095493049985e+32, 1.1705816391354942e+36, 1.5218781706341946e+39, 6.674054579262182e+42]\n"
     ]
    },
    {
     "name": "stderr",
     "output_type": "stream",
     "text": [
      "C:\\Users\\Vutua\\AppData\\Local\\Temp\\ipykernel_26380\\537489797.py:7: RuntimeWarning: overflow encountered in scalar power\n",
      "  return (y_predict - y) ** 2\n",
      "C:\\Users\\Vutua\\AppData\\Local\\Temp\\ipykernel_26380\\537489797.py:12: RuntimeWarning: overflow encountered in scalar multiply\n",
      "  dl_dw = 2*xi*(y_predict - y)\n",
      "C:\\Users\\Vutua\\AppData\\Local\\Temp\\ipykernel_26380\\537489797.py:21: RuntimeWarning: invalid value encountered in scalar subtract\n",
      "  wi -=(eps*dl_dw)\n"
     ]
    }
   ],
   "execution_count": 10
  },
  {
   "metadata": {},
   "cell_type": "code",
   "outputs": [
    {
     "name": "stdout",
     "output_type": "stream",
     "text": [
      "[[ 1 -3  5]\n",
      " [-2  1  4]\n",
      " [ 6 -2  1]]\n"
     ]
    }
   ],
   "execution_count": 18,
   "source": [
    "A = np.array([[1, -3, 5], [-2, 1, 4], [6, -2, 1]])\n",
    "np.linalg.matrix_rank(A)\n",
    "print(A)"
   ],
   "id": "4a70f281c51036e"
  }
 ],
 "metadata": {
  "kernelspec": {
   "display_name": "Python 3",
   "language": "python",
   "name": "python3"
  },
  "language_info": {
   "codemirror_mode": {
    "name": "ipython",
    "version": 2
   },
   "file_extension": ".py",
   "mimetype": "text/x-python",
   "name": "python",
   "nbconvert_exporter": "python",
   "pygments_lexer": "ipython2",
   "version": "2.7.6"
  }
 },
 "nbformat": 4,
 "nbformat_minor": 5
}
